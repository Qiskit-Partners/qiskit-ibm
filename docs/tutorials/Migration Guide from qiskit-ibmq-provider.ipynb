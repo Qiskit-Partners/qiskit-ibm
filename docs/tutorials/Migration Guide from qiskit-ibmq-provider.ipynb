{
 "cells": [
  {
   "cell_type": "markdown",
   "metadata": {},
   "source": [
    "# Migration guide from qiskit-ibm-provider to qiskit-ibm-proivder\n",
    "\n",
    "### Overview\n",
    "\n",
    "The move from `qiskit-ibmq-provider` to `qiskit-ibm-provider` attempts to keep most of the existing interface intact, but since it involves a big change under the hood - using the qiskit runtime web interface instead of the iqx web interface - there are noteable changes in the parameters that can be passed and the data that is received."
   ]
  },
  {
   "cell_type": "markdown",
   "metadata": {},
   "source": [
    "### Getting a provider\n",
    "\n",
    "When using `qiskit-ibmq-proivder`, one usually manages accounts and gets a provider using the `IBMQ` global variable. In `qiskit-ibm-provider` the provider is created using the `IBMProvider` class.\n",
    "\n",
    "**Previously:**"
   ]
  },
  {
   "cell_type": "code",
   "execution_count": 16,
   "metadata": {},
   "outputs": [
    {
     "name": "stderr",
     "output_type": "stream",
     "text": [
      "ibmqfactory.load_account:WARNING:2022-10-18 10:49:44,282: Credentials are already in use. The existing account in the session will be replaced.\n"
     ]
    }
   ],
   "source": [
    "from qiskit import IBMQ\n",
    "# IBMQ.save_account(token='MY_API_TOKEN')\n",
    "ibmq_provider = IBMQ.load_account()"
   ]
  },
  {
   "cell_type": "markdown",
   "metadata": {},
   "source": [
    "**New:**"
   ]
  },
  {
   "cell_type": "code",
   "execution_count": 17,
   "metadata": {},
   "outputs": [],
   "source": [
    "from qiskit_ibm_provider import IBMProvider\n",
    "# IBMProvider.save_account(token='MY_API_TOKEN')\n",
    "ibm_provider = IBMProvider()"
   ]
  },
  {
   "cell_type": "markdown",
   "metadata": {},
   "source": [
    "### Loading account from enviornment variables\n",
    "\n",
    "The variable name has changes, from `QE_TOKEN` to `QISKIT_IBM_TOKEN`.\n",
    "\n",
    "**Previously:**"
   ]
  },
  {
   "cell_type": "code",
   "execution_count": null,
   "metadata": {},
   "outputs": [],
   "source": [
    "# export QE_TOKEN='MY_API_TOKEN' (bash command)\n",
    "\n",
    "from qiskit import IBMQ\n",
    "provider = IBMQ.load_account() # loads account from env variables"
   ]
  },
  {
   "cell_type": "markdown",
   "metadata": {},
   "source": [
    "**New:**"
   ]
  },
  {
   "cell_type": "code",
   "execution_count": null,
   "metadata": {},
   "outputs": [],
   "source": [
    "# export QISKIT_IBM_TOKEN='MY_API_TOKEN' (bash command)\n",
    "\n",
    "from qiskit_ibm_provider import IBMProvider\n",
    "provider = IBMProvider() # loads account from env variables"
   ]
  },
  {
   "cell_type": "markdown",
   "metadata": {},
   "source": [
    "### Enabling account without stored credentials\n",
    "\n",
    "This does not require a separate method anymore, just pass the token when initializing `IBMProvider`.\n",
    "\n",
    "**Previously:**"
   ]
  },
  {
   "cell_type": "code",
   "execution_count": null,
   "metadata": {},
   "outputs": [],
   "source": [
    "from qiskit import IBMQ\n",
    "provider = IBMQ.enable_account(token='MY_API_TOKEN') # enable account for current session"
   ]
  },
  {
   "cell_type": "markdown",
   "metadata": {},
   "source": [
    "**New:**"
   ]
  },
  {
   "cell_type": "code",
   "execution_count": null,
   "metadata": {},
   "outputs": [],
   "source": [
    "from qiskit_ibm_provider import IBMProvider\n",
    "provider = IBMProvider(token='MY_API_TOKEN') # enable account for current session"
   ]
  },
  {
   "cell_type": "markdown",
   "metadata": {},
   "source": [
    "### Basic usage\n",
    "\n",
    "We demonstrate the basic flow for using the provider, which is essentially the same. We begin by creating a demonstration circuit generating a 2-qubit bell pair:"
   ]
  },
  {
   "cell_type": "code",
   "execution_count": 4,
   "metadata": {},
   "outputs": [],
   "source": [
    "from qiskit import QuantumCircuit\n",
    "qc = QuantumCircuit(2)\n",
    "qc.h(0)\n",
    "qc.cx(0,1)\n",
    "qc.measure_all()"
   ]
  },
  {
   "cell_type": "markdown",
   "metadata": {},
   "source": [
    "The basic flow of getting a backend, running the circuit using it, getting a job and obtaining the results from the job once it is done is the same.\n",
    "\n",
    "**Previously:**"
   ]
  },
  {
   "cell_type": "code",
   "execution_count": 12,
   "metadata": {},
   "outputs": [
    {
     "name": "stderr",
     "output_type": "stream",
     "text": [
      "ibmqfactory.load_account:WARNING:2022-10-18 10:32:41,628: Credentials are already in use. The existing account in the session will be replaced.\n"
     ]
    },
    {
     "name": "stdout",
     "output_type": "stream",
     "text": [
      "{'00': 2029, '11': 1971}\n"
     ]
    }
   ],
   "source": [
    "from qiskit import IBMQ\n",
    "provider = IBMQ.load_account()\n",
    "backend = provider.get_backend('ibmq_qasm_simulator')\n",
    "job = backend.run(qc)\n",
    "job.wait_for_final_state()\n",
    "print(job.result().get_counts())"
   ]
  },
  {
   "cell_type": "markdown",
   "metadata": {},
   "source": [
    "**New:**"
   ]
  },
  {
   "cell_type": "code",
   "execution_count": 14,
   "metadata": {},
   "outputs": [
    {
     "name": "stdout",
     "output_type": "stream",
     "text": [
      "{'11': 2005, '00': 1995}\n"
     ]
    }
   ],
   "source": [
    "from qiskit_ibm_provider import IBMProvider\n",
    "provider = IBMProvider()\n",
    "backend = provider.get_backend('ibmq_qasm_simulator')\n",
    "job = backend.run(qc)\n",
    "job.wait_for_final_state()\n",
    "print(job.result().get_counts())"
   ]
  },
  {
   "cell_type": "markdown",
   "metadata": {},
   "source": [
    "### Backend.run() deprecated parameters\n",
    "\n",
    "The following parameters are not accepted by `IBMBackend.run()`:\n",
    "\n",
    "1. `circuits` parameter now accepts only `QuantumCircuit` and `Schedule` and lists of those objects; `qobj` objects are no longer passable.\n",
    "2. `job_name` was removed.\n",
    "3. `job_share_level` was removed.\n",
    "4. `experiment_id` was removed."
   ]
  }
 ],
 "metadata": {
  "kernelspec": {
   "display_name": "qiskit_provider",
   "language": "python",
   "name": "qiskit_provider"
  },
  "language_info": {
   "codemirror_mode": {
    "name": "ipython",
    "version": 3
   },
   "file_extension": ".py",
   "mimetype": "text/x-python",
   "name": "python",
   "nbconvert_exporter": "python",
   "pygments_lexer": "ipython3",
   "version": "3.9.13"
  }
 },
 "nbformat": 4,
 "nbformat_minor": 4
}
